{
  "nbformat": 4,
  "nbformat_minor": 0,
  "metadata": {
    "colab": {
      "provenance": [],
      "authorship_tag": "ABX9TyOx7NVpZBq4vz5mZSXY/ZKN",
      "include_colab_link": true
    },
    "kernelspec": {
      "name": "python3",
      "display_name": "Python 3"
    },
    "language_info": {
      "name": "python"
    }
  },
  "cells": [
    {
      "cell_type": "markdown",
      "metadata": {
        "id": "view-in-github",
        "colab_type": "text"
      },
      "source": [
        "<a href=\"https://colab.research.google.com/github/kimanirobbi/wk-4-ai/blob/main/Task_3_.ipynb\" target=\"_parent\"><img src=\"https://colab.research.google.com/assets/colab-badge.svg\" alt=\"Open In Colab\"/></a>"
      ]
    },
    {
      "cell_type": "markdown",
      "source": [
        "# **Predictive Analytics for Resource Allocation**"
      ],
      "metadata": {
        "id": "B8HugQ0Inv4a"
      }
    },
    {
      "cell_type": "code",
      "source": [
        "import pandas as pd\n",
        "import numpy as np\n",
        "from sklearn.datasets import load_breast_cancer\n",
        "from sklearn.model_selection import train_test_split\n",
        "from sklearn.ensemble import RandomForestClassifier\n",
        "from sklearn.preprocessing import StandardScaler\n",
        "from sklearn.metrics import accuracy_score, f1_score, classification_report\n",
        "import warnings\n",
        "warnings.filterwarnings('ignore')\n",
        "\n",
        "# Load and prepare dataset\n",
        "def load_and_preprocess_data():\n",
        "    \"\"\"Load breast cancer dataset and preprocess for priority prediction\"\"\"\n",
        "    data = load_breast_cancer()\n",
        "    df = pd.DataFrame(data.data, columns=data.feature_names)\n",
        "    df['target'] = data.target\n",
        "\n",
        "    # Convert binary classification to multi-class priority levels\n",
        "    # For demonstration, we'll create 3 priority levels based on feature combinations\n",
        "    df['priority'] = 0  # Default: low priority\n",
        "\n",
        "    # Create synthetic priority labels based on tumor characteristics\n",
        "    malignant_mask = df['target'] == 0\n",
        "    high_risk_features = ['worst radius', 'worst texture', 'worst perimeter']\n",
        "\n",
        "    # High priority: malignant with large tumor size\n",
        "    high_priority_mask = malignant_mask & (df['worst radius'] > df['worst radius'].median())\n",
        "    df.loc[high_priority_mask, 'priority'] = 2  # High priority\n",
        "\n",
        "    # Medium priority: malignant with smaller tumors or benign with concerning features\n",
        "    medium_priority_mask = (malignant_mask & ~high_priority_mask) | \\\n",
        "                          ((df['target'] == 1) & (df['worst radius'] > df['worst radius'].quantile(0.75)))\n",
        "    df.loc[medium_priority_mask, 'priority'] = 1  # Medium priority\n",
        "\n",
        "    return df, data.feature_names\n",
        "\n",
        "def train_priority_model():\n",
        "    \"\"\"Train Random Forest model for priority prediction\"\"\"\n",
        "    df, feature_names = load_and_preprocess_data()\n",
        "\n",
        "    # Select features for training\n",
        "    X = df[feature_names]\n",
        "    y = df['priority']\n",
        "\n",
        "    # Split data\n",
        "    X_train, X_test, y_train, y_test = train_test_split(\n",
        "        X, y, test_size=0.3, random_state=42, stratify=y\n",
        "    )\n",
        "\n",
        "    # Scale features\n",
        "    scaler = StandardScaler()\n",
        "    X_train_scaled = scaler.fit_transform(X_train)\n",
        "    X_test_scaled = scaler.transform(X_test)\n",
        "\n",
        "    # Train model\n",
        "    model = RandomForestClassifier(\n",
        "        n_estimators=100,\n",
        "        random_state=42,\n",
        "        max_depth=10,\n",
        "        class_weight='balanced'\n",
        "    )\n",
        "\n",
        "    model.fit(X_train_scaled, y_train)\n",
        "\n",
        "    # Predictions\n",
        "    y_pred = model.predict(X_test_scaled)\n",
        "\n",
        "    # Evaluation\n",
        "    accuracy = accuracy_score(y_test, y_pred)\n",
        "    f1 = f1_score(y_test, y_pred, average='weighted')\n",
        "\n",
        "    print(\"=== Model Performance ===\")\n",
        "    print(f\"Accuracy: {accuracy:.4f}\")\n",
        "    print(f\"F1-Score: {f1:.4f}\")\n",
        "    print(\"\\nClassification Report:\")\n",
        "    print(classification_report(y_test, y_pred, target_names=['Low', 'Medium', 'High']))\n",
        "\n",
        "    # Feature importance\n",
        "    feature_imp = pd.DataFrame({\n",
        "        'feature': feature_names,\n",
        "        'importance': model.feature_importances_\n",
        "    }).sort_values('importance', ascending=False)\n",
        "\n",
        "    print(\"\\nTop 10 Important Features:\")\n",
        "    print(feature_imp.head(10))\n",
        "\n",
        "    return model, scaler, accuracy, f1\n",
        "\n",
        "# Execute the training\n",
        "model, scaler, accuracy, f1 = train_priority_model()"
      ],
      "metadata": {
        "colab": {
          "base_uri": "https://localhost:8080/"
        },
        "id": "pyZKeWIMrnJ-",
        "outputId": "8fa4bc83-7287-4df8-d3d2-1b206e3a9ba9"
      },
      "execution_count": 1,
      "outputs": [
        {
          "output_type": "stream",
          "name": "stdout",
          "text": [
            "=== Model Performance ===\n",
            "Accuracy: 0.9649\n",
            "F1-Score: 0.9592\n",
            "\n",
            "Classification Report:\n",
            "              precision    recall  f1-score   support\n",
            "\n",
            "         Low       0.95      1.00      0.97       107\n",
            "      Medium       0.00      0.00      0.00         2\n",
            "        High       1.00      0.94      0.97        62\n",
            "\n",
            "    accuracy                           0.96       171\n",
            "   macro avg       0.65      0.65      0.65       171\n",
            "weighted avg       0.96      0.96      0.96       171\n",
            "\n",
            "\n",
            "Top 10 Important Features:\n",
            "                 feature  importance\n",
            "23            worst area    0.098214\n",
            "27  worst concave points    0.088455\n",
            "7    mean concave points    0.081496\n",
            "20          worst radius    0.077589\n",
            "24      worst smoothness    0.069084\n",
            "22       worst perimeter    0.064600\n",
            "6         mean concavity    0.064247\n",
            "2         mean perimeter    0.049880\n",
            "26       worst concavity    0.049552\n",
            "0            mean radius    0.044424\n"
          ]
        }
      ]
    }
  ]
}